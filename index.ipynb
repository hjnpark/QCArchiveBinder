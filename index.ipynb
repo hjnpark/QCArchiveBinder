{
 "cells": [
  {
   "cell_type": "markdown",
   "metadata": {},
   "source": [
    "# QCArchive Demonstrations\n",
    "\n",
    "* [Basics of retrieving records](./record_basics.ipynb)\n",
    "* [Submitting basic computations](./submission_basics.ipynb)\n",
    "* [Using datasets and dataset basics](./dataset_basics.ipynb)\n",
    "* [Submitting computations with datasets](./dataset_submission.ipynb)\n",
    "* [Nudged Elastic Band service](./neb.ipynb)"
   ]
  }
 ],
 "metadata": {
  "kernelspec": {
   "display_name": "Python 3 (ipykernel)",
   "language": "python",
   "name": "python3"
  },
  "language_info": {
   "codemirror_mode": {
    "name": "ipython",
    "version": 3
   },
   "file_extension": ".py",
   "mimetype": "text/x-python",
   "name": "python",
   "nbconvert_exporter": "python",
   "pygments_lexer": "ipython3",
   "version": "3.9.12"
  }
 },
 "nbformat": 4,
 "nbformat_minor": 1
}
