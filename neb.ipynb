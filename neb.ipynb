{
 "cells": [
  {
   "cell_type": "markdown",
   "id": "60b47f5d-c031-4723-9359-11adcf09a9c5",
   "metadata": {},
   "source": [
    "# QCFractal - NEB service\n",
    "\n",
    "This notebook shows how an NEB service can be submmited and its record can be queried."
   ]
  },
  {
   "cell_type": "code",
   "execution_count": null,
   "id": "3fe49ffb-84bc-4dbb-bade-991a26d68316",
   "metadata": {},
   "outputs": [],
   "source": [
    "from qcelemental.models import Molecule\n",
    "import qcportal as ptl\n",
    "from qcportal.neb import NEBKeywords\n",
    "from qcelemental import constants\n",
    "import json"
   ]
  },
  {
   "cell_type": "markdown",
   "id": "8eed7124-1f8d-45d2-97e4-0300211d6529",
   "metadata": {},
   "source": [
    "A simple function to load a list of molecule objects from a json file."
   ]
  },
  {
   "cell_type": "code",
   "execution_count": null,
   "id": "446cfd40-7c76-4d2a-ba80-5df809622805",
   "metadata": {},
   "outputs": [],
   "source": [
    "def load_neb_input(fname):\n",
    "    chain = []\n",
    "    schema_json = json.load(open(fname))\n",
    "    for i, schema in schema_json.items():\n",
    "        chain.append(Molecule.from_data(schema))\n",
    "    return chain"
   ]
  },
  {
   "cell_type": "markdown",
   "id": "3d692cd0-ee2d-4a84-bb14-eab5c0227abe",
   "metadata": {},
   "source": [
    "## Creating a client object and preparing an input chain\n",
    "After the client obejct is ready, we are preparing an input chain for the NEB service as well. "
   ]
  },
  {
   "cell_type": "code",
   "execution_count": null,
   "id": "6fb2eae9-06d3-4bb2-986d-3955dcaa86c4",
   "metadata": {},
   "outputs": [],
   "source": [
    "# Guest access\n",
    "client = ptl.PortalClient(\"https://qcademo.molssi.org\")\n",
    "\n",
    "# Uncomment the following two lines to query a NEB record with a guest client.\n",
    "#r = client.get_nebs([963])[0]\n",
    "#print(r.stdout)\n",
    "\n",
    "# If you have a username/password\n",
    "#client = ptl.PortalClient(\"https://qcademo.molssi.org\", username=\"YOUR_USERNAME\", password=\"YOUR_PASSWORD\")\n",
    "\n",
    "chain = load_neb_input(\"NEB_input.json\")"
   ]
  },
  {
   "cell_type": "markdown",
   "id": "3a1fd571-1f7f-4f08-b2cf-4d30788b5c94",
   "metadata": {},
   "source": [
    "## Specifications\n",
    "\n",
    "Calculation details can be adjusted here. \n",
    "\n",
    "### NEB keywords\n",
    "\n",
    "* **images** - Number of images that will be used to locate a rough transition state structure. (default = 11)\n",
    "\n",
    "* **spring_constant** - Spring constant in kcal/mol/Ang^2. (default = 1.0)\n",
    "\n",
    "* **spring_type** - 0: Nudged Elastic Band (parallel spring force + perpendicular gradients) (default) \\\n",
    "                  1: Hybrid Elastic Band (full spring force + perpendicular gradients)\\\n",
    "                  2: Plain Elastic Band (full spring force + full gradients\n",
    "                  \n",
    "* **maximum_force** - Convergence criteria. Converge when maximum RMS-gradient (ev/Ang) of the chain fall below maximum_force. (default = 0.05)\n",
    "\n",
    "* **average_force** - Convergence criteria. Converge when average RMS-gradient (ev/Ang) of the chain fall below average_force. (default = 0.025)\n",
    "\n",
    "* **maximum_cycle** - Maximum iteration number for NEB calculation (default = 100)\n",
    "\n",
    "* **energy_weighted** - Provide an integer value to vary the spring constant based on images' energy (range: spring_constant/energy_weighted - spring_constant) (default = None)\n",
    "\n",
    "* **optimize_ts** - Setting it equal to true will perform a transition sate optimization starting with the guessed transition state structure from the NEB calculation result. (defualt = False)\n",
    "\n",
    "* **optimize_endpoints** - Setting it equal to True will optimize two end points of the initial chain before starting NEB. (default = False)\n",
    "\n",
    "* **coordinate_systm** - Coordinate system for optimizations:\\\n",
    "        \"tric\" for Translation-Rotation Internal Coordinates (default)\\\n",
    "        \"cart\" = Cartesian coordinate system\\\n",
    "        \"prim\" = Primitive (a.k.a redundant internal coordinates)\\\n",
    "        \"dlc\" = Delocalized Internal Coordinates,\\\n",
    "        \"hdlc\" = Hybrid Delocalized Internal Coordinates\\\n",
    "        \"tric-p\" for primitive Translation-Rotation Internal Coordinates (no delocalization)\n",
    "        \n",
    "* **epsilon** - Small eigenvalue threshold for resetting Hessian. (default = 1e-5)\n",
    "\n",
    "* **hessian_reset** - Reset Hessian when eigenvalues are below the epsilon. If it is set to False, it will skip updating the hessian. (default = True)"
   ]
  },
  {
   "cell_type": "code",
   "execution_count": null,
   "id": "e9e68610-5155-425a-b625-ab39afa4ca9d",
   "metadata": {},
   "outputs": [],
   "source": [
    "sp_spec = {\n",
    "    'program':'psi4',\n",
    "    'driver':'energy',\n",
    "    'method':'b3lyp',\n",
    "    'basis':'6-31g',\n",
    "    'keywords':{},\n",
    "}\n",
    "\n",
    "kw = NEBKeywords(\n",
    "    images= 11,\n",
    "    spring_constant=0.1,\n",
    "    optimize_ts=True,\n",
    "    maximum_force= 0.05,\n",
    "    average_force= 0.025,\n",
    "    coordinate_system= 'tric',\n",
    "    optimize_endpoints=True,\n",
    "    spring_type=0)\n",
    "\n",
    "meta, ids = client.add_nebs([chain], 'geometric', sp_spec, kw)"
   ]
  },
  {
   "cell_type": "markdown",
   "id": "571221a3-d50a-43eb-8334-ddc5d2e14aaf",
   "metadata": {},
   "source": [
    "We can query the record and print stdout."
   ]
  },
  {
   "cell_type": "code",
   "execution_count": null,
   "id": "c08c084d-a977-40da-bc62-b36a7803f280",
   "metadata": {},
   "outputs": [],
   "source": [
    "r = client.get_nebs(ids)[0]\n",
    "print(r.stdout)"
   ]
  },
  {
   "cell_type": "markdown",
   "id": "9293cd96-6dac-43ee-9628-7ff1dc07b221",
   "metadata": {},
   "source": [
    "Other useful records are.."
   ]
  },
  {
   "cell_type": "code",
   "execution_count": null,
   "id": "b12590da-f446-4782-b479-8142ee096106",
   "metadata": {},
   "outputs": [],
   "source": [
    "singlepoint_records = r.singlepoints # {int(iteration number) : [siglepoint records]}\n",
    "guessed_TS_moelcule = r.neb_result # Molecule object\n",
    "optimization_records = r.optimizations # {\"initial\":Optimization record of the first image, \"final\":Optimization record of the last image\n",
    "                                       #  \"transition\":Optimization record of the neb_result}"
   ]
  }
 ],
 "metadata": {
  "kernelspec": {
   "display_name": "Python 3 (ipykernel)",
   "language": "python",
   "name": "python3"
  },
  "language_info": {
   "codemirror_mode": {
    "name": "ipython",
    "version": 3
   },
   "file_extension": ".py",
   "mimetype": "text/x-python",
   "name": "python",
   "nbconvert_exporter": "python",
   "pygments_lexer": "ipython3",
   "version": "3.9.12"
  }
 },
 "nbformat": 4,
 "nbformat_minor": 5
}
